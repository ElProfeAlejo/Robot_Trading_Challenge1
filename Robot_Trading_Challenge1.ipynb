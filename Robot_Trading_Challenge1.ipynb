{
  "nbformat": 4,
  "nbformat_minor": 0,
  "metadata": {
    "colab": {
      "provenance": [],
      "collapsed_sections": [
        "PmHCsoopuJ3u",
        "LdQll4wYuRtR",
        "Ci1SEL_Xup-J",
        "LcvirYBFxcLl",
        "LS1lURSRyTDl",
        "yfY6_yuyyz2x"
      ]
    },
    "kernelspec": {
      "name": "python3",
      "display_name": "Python 3"
    },
    "language_info": {
      "name": "python"
    }
  },
  "cells": [
    {
      "cell_type": "markdown",
      "source": [
        "#1. Configuración del Ambiente"
      ],
      "metadata": {
        "id": "PmHCsoopuJ3u"
      }
    },
    {
      "cell_type": "code",
      "execution_count": null,
      "metadata": {
        "id": "8BIkzuHmt9KJ"
      },
      "outputs": [],
      "source": [
        "!pip install yfinance\n",
        "import yfinance as yf\n",
        "\n",
        "from bs4 import BeautifulSoup\n",
        "import requests\n",
        "\n",
        "import pandas as pd\n",
        "pd.set_option('display.max_columns', None)\n",
        "pd.set_option('display.expand_frame_repr', False)\n",
        "\n",
        "%matplotlib inline\n",
        "import matplotlib.pyplot as plt\n",
        "plt.rc('figure', figsize = (5, 5))\n",
        "\n",
        "import time\n",
        "import datetime as dt\n",
        "from IPython.display import clear_output"
      ]
    },
    {
      "cell_type": "markdown",
      "source": [
        "#2.1 Precios Históricos del Bitcoin"
      ],
      "metadata": {
        "id": "LdQll4wYuRtR"
      }
    },
    {
      "cell_type": "code",
      "source": [
        "#Extracción del histórico de precios del Bitcoin de la última semana en intervalos de 5minutos\n",
        "df_bitcoin = yf.Ticker(\"BTC-USD\").history(period = \"7d\", interval = \"5m\")\n",
        "df_bitcoin"
      ],
      "metadata": {
        "colab": {
          "base_uri": "https://localhost:8080/",
          "height": 455
        },
        "id": "tsfpDOuMuSrP",
        "outputId": "b6de9955-4135-4fd5-e08c-ed188775575f"
      },
      "execution_count": 3,
      "outputs": [
        {
          "output_type": "execute_result",
          "data": {
            "text/plain": [
              "                                   Open          High           Low         Close     Volume  Dividends  Stock Splits\n",
              "Datetime                                                                                                             \n",
              "2023-05-22 00:00:00+00:00  26749.892578  26767.541016  26748.697266  26767.541016          0        0.0           0.0\n",
              "2023-05-22 00:05:00+00:00  26767.800781  26781.283203  26767.800781  26781.283203    4646912        0.0           0.0\n",
              "2023-05-22 00:10:00+00:00  26783.734375  26785.113281  26782.589844  26785.113281    5285888        0.0           0.0\n",
              "2023-05-22 00:15:00+00:00  26783.136719  26783.806641  26768.679688  26768.679688   13245440        0.0           0.0\n",
              "2023-05-22 00:20:00+00:00  26772.236328  26772.236328  26753.222656  26753.222656    2718720        0.0           0.0\n",
              "...                                 ...           ...           ...           ...        ...        ...           ...\n",
              "2023-05-28 23:15:00+00:00  28161.876953  28193.449219  28111.890625  28118.050781   98180096        0.0           0.0\n",
              "2023-05-28 23:20:00+00:00  28112.871094  28150.638672  28112.871094  28120.023438  126167040        0.0           0.0\n",
              "2023-05-28 23:25:00+00:00  28118.910156  28119.742188  28102.142578  28115.160156   59147264        0.0           0.0\n",
              "2023-05-28 23:30:00+00:00  28104.283203  28104.283203  28079.568359  28079.568359   46382080        0.0           0.0\n",
              "2023-05-28 23:35:00+00:00  28074.576172  28084.443359  28074.576172  28084.443359    7732224        0.0           0.0\n",
              "\n",
              "[2012 rows x 7 columns]"
            ],
            "text/html": [
              "\n",
              "  <div id=\"df-3ed456ca-6164-4928-bc48-108173829634\">\n",
              "    <div class=\"colab-df-container\">\n",
              "      <div>\n",
              "<style scoped>\n",
              "    .dataframe tbody tr th:only-of-type {\n",
              "        vertical-align: middle;\n",
              "    }\n",
              "\n",
              "    .dataframe tbody tr th {\n",
              "        vertical-align: top;\n",
              "    }\n",
              "\n",
              "    .dataframe thead th {\n",
              "        text-align: right;\n",
              "    }\n",
              "</style>\n",
              "<table border=\"1\" class=\"dataframe\">\n",
              "  <thead>\n",
              "    <tr style=\"text-align: right;\">\n",
              "      <th></th>\n",
              "      <th>Open</th>\n",
              "      <th>High</th>\n",
              "      <th>Low</th>\n",
              "      <th>Close</th>\n",
              "      <th>Volume</th>\n",
              "      <th>Dividends</th>\n",
              "      <th>Stock Splits</th>\n",
              "    </tr>\n",
              "    <tr>\n",
              "      <th>Datetime</th>\n",
              "      <th></th>\n",
              "      <th></th>\n",
              "      <th></th>\n",
              "      <th></th>\n",
              "      <th></th>\n",
              "      <th></th>\n",
              "      <th></th>\n",
              "    </tr>\n",
              "  </thead>\n",
              "  <tbody>\n",
              "    <tr>\n",
              "      <th>2023-05-22 00:00:00+00:00</th>\n",
              "      <td>26749.892578</td>\n",
              "      <td>26767.541016</td>\n",
              "      <td>26748.697266</td>\n",
              "      <td>26767.541016</td>\n",
              "      <td>0</td>\n",
              "      <td>0.0</td>\n",
              "      <td>0.0</td>\n",
              "    </tr>\n",
              "    <tr>\n",
              "      <th>2023-05-22 00:05:00+00:00</th>\n",
              "      <td>26767.800781</td>\n",
              "      <td>26781.283203</td>\n",
              "      <td>26767.800781</td>\n",
              "      <td>26781.283203</td>\n",
              "      <td>4646912</td>\n",
              "      <td>0.0</td>\n",
              "      <td>0.0</td>\n",
              "    </tr>\n",
              "    <tr>\n",
              "      <th>2023-05-22 00:10:00+00:00</th>\n",
              "      <td>26783.734375</td>\n",
              "      <td>26785.113281</td>\n",
              "      <td>26782.589844</td>\n",
              "      <td>26785.113281</td>\n",
              "      <td>5285888</td>\n",
              "      <td>0.0</td>\n",
              "      <td>0.0</td>\n",
              "    </tr>\n",
              "    <tr>\n",
              "      <th>2023-05-22 00:15:00+00:00</th>\n",
              "      <td>26783.136719</td>\n",
              "      <td>26783.806641</td>\n",
              "      <td>26768.679688</td>\n",
              "      <td>26768.679688</td>\n",
              "      <td>13245440</td>\n",
              "      <td>0.0</td>\n",
              "      <td>0.0</td>\n",
              "    </tr>\n",
              "    <tr>\n",
              "      <th>2023-05-22 00:20:00+00:00</th>\n",
              "      <td>26772.236328</td>\n",
              "      <td>26772.236328</td>\n",
              "      <td>26753.222656</td>\n",
              "      <td>26753.222656</td>\n",
              "      <td>2718720</td>\n",
              "      <td>0.0</td>\n",
              "      <td>0.0</td>\n",
              "    </tr>\n",
              "    <tr>\n",
              "      <th>...</th>\n",
              "      <td>...</td>\n",
              "      <td>...</td>\n",
              "      <td>...</td>\n",
              "      <td>...</td>\n",
              "      <td>...</td>\n",
              "      <td>...</td>\n",
              "      <td>...</td>\n",
              "    </tr>\n",
              "    <tr>\n",
              "      <th>2023-05-28 23:15:00+00:00</th>\n",
              "      <td>28161.876953</td>\n",
              "      <td>28193.449219</td>\n",
              "      <td>28111.890625</td>\n",
              "      <td>28118.050781</td>\n",
              "      <td>98180096</td>\n",
              "      <td>0.0</td>\n",
              "      <td>0.0</td>\n",
              "    </tr>\n",
              "    <tr>\n",
              "      <th>2023-05-28 23:20:00+00:00</th>\n",
              "      <td>28112.871094</td>\n",
              "      <td>28150.638672</td>\n",
              "      <td>28112.871094</td>\n",
              "      <td>28120.023438</td>\n",
              "      <td>126167040</td>\n",
              "      <td>0.0</td>\n",
              "      <td>0.0</td>\n",
              "    </tr>\n",
              "    <tr>\n",
              "      <th>2023-05-28 23:25:00+00:00</th>\n",
              "      <td>28118.910156</td>\n",
              "      <td>28119.742188</td>\n",
              "      <td>28102.142578</td>\n",
              "      <td>28115.160156</td>\n",
              "      <td>59147264</td>\n",
              "      <td>0.0</td>\n",
              "      <td>0.0</td>\n",
              "    </tr>\n",
              "    <tr>\n",
              "      <th>2023-05-28 23:30:00+00:00</th>\n",
              "      <td>28104.283203</td>\n",
              "      <td>28104.283203</td>\n",
              "      <td>28079.568359</td>\n",
              "      <td>28079.568359</td>\n",
              "      <td>46382080</td>\n",
              "      <td>0.0</td>\n",
              "      <td>0.0</td>\n",
              "    </tr>\n",
              "    <tr>\n",
              "      <th>2023-05-28 23:35:00+00:00</th>\n",
              "      <td>28074.576172</td>\n",
              "      <td>28084.443359</td>\n",
              "      <td>28074.576172</td>\n",
              "      <td>28084.443359</td>\n",
              "      <td>7732224</td>\n",
              "      <td>0.0</td>\n",
              "      <td>0.0</td>\n",
              "    </tr>\n",
              "  </tbody>\n",
              "</table>\n",
              "<p>2012 rows × 7 columns</p>\n",
              "</div>\n",
              "      <button class=\"colab-df-convert\" onclick=\"convertToInteractive('df-3ed456ca-6164-4928-bc48-108173829634')\"\n",
              "              title=\"Convert this dataframe to an interactive table.\"\n",
              "              style=\"display:none;\">\n",
              "        \n",
              "  <svg xmlns=\"http://www.w3.org/2000/svg\" height=\"24px\"viewBox=\"0 0 24 24\"\n",
              "       width=\"24px\">\n",
              "    <path d=\"M0 0h24v24H0V0z\" fill=\"none\"/>\n",
              "    <path d=\"M18.56 5.44l.94 2.06.94-2.06 2.06-.94-2.06-.94-.94-2.06-.94 2.06-2.06.94zm-11 1L8.5 8.5l.94-2.06 2.06-.94-2.06-.94L8.5 2.5l-.94 2.06-2.06.94zm10 10l.94 2.06.94-2.06 2.06-.94-2.06-.94-.94-2.06-.94 2.06-2.06.94z\"/><path d=\"M17.41 7.96l-1.37-1.37c-.4-.4-.92-.59-1.43-.59-.52 0-1.04.2-1.43.59L10.3 9.45l-7.72 7.72c-.78.78-.78 2.05 0 2.83L4 21.41c.39.39.9.59 1.41.59.51 0 1.02-.2 1.41-.59l7.78-7.78 2.81-2.81c.8-.78.8-2.07 0-2.86zM5.41 20L4 18.59l7.72-7.72 1.47 1.35L5.41 20z\"/>\n",
              "  </svg>\n",
              "      </button>\n",
              "      \n",
              "  <style>\n",
              "    .colab-df-container {\n",
              "      display:flex;\n",
              "      flex-wrap:wrap;\n",
              "      gap: 12px;\n",
              "    }\n",
              "\n",
              "    .colab-df-convert {\n",
              "      background-color: #E8F0FE;\n",
              "      border: none;\n",
              "      border-radius: 50%;\n",
              "      cursor: pointer;\n",
              "      display: none;\n",
              "      fill: #1967D2;\n",
              "      height: 32px;\n",
              "      padding: 0 0 0 0;\n",
              "      width: 32px;\n",
              "    }\n",
              "\n",
              "    .colab-df-convert:hover {\n",
              "      background-color: #E2EBFA;\n",
              "      box-shadow: 0px 1px 2px rgba(60, 64, 67, 0.3), 0px 1px 3px 1px rgba(60, 64, 67, 0.15);\n",
              "      fill: #174EA6;\n",
              "    }\n",
              "\n",
              "    [theme=dark] .colab-df-convert {\n",
              "      background-color: #3B4455;\n",
              "      fill: #D2E3FC;\n",
              "    }\n",
              "\n",
              "    [theme=dark] .colab-df-convert:hover {\n",
              "      background-color: #434B5C;\n",
              "      box-shadow: 0px 1px 3px 1px rgba(0, 0, 0, 0.15);\n",
              "      filter: drop-shadow(0px 1px 2px rgba(0, 0, 0, 0.3));\n",
              "      fill: #FFFFFF;\n",
              "    }\n",
              "  </style>\n",
              "\n",
              "      <script>\n",
              "        const buttonEl =\n",
              "          document.querySelector('#df-3ed456ca-6164-4928-bc48-108173829634 button.colab-df-convert');\n",
              "        buttonEl.style.display =\n",
              "          google.colab.kernel.accessAllowed ? 'block' : 'none';\n",
              "\n",
              "        async function convertToInteractive(key) {\n",
              "          const element = document.querySelector('#df-3ed456ca-6164-4928-bc48-108173829634');\n",
              "          const dataTable =\n",
              "            await google.colab.kernel.invokeFunction('convertToInteractive',\n",
              "                                                     [key], {});\n",
              "          if (!dataTable) return;\n",
              "\n",
              "          const docLinkHtml = 'Like what you see? Visit the ' +\n",
              "            '<a target=\"_blank\" href=https://colab.research.google.com/notebooks/data_table.ipynb>data table notebook</a>'\n",
              "            + ' to learn more about interactive tables.';\n",
              "          element.innerHTML = '';\n",
              "          dataTable['output_type'] = 'display_data';\n",
              "          await google.colab.output.renderOutput(dataTable, element);\n",
              "          const docLink = document.createElement('div');\n",
              "          docLink.innerHTML = docLinkHtml;\n",
              "          element.appendChild(docLink);\n",
              "        }\n",
              "      </script>\n",
              "    </div>\n",
              "  </div>\n",
              "  "
            ]
          },
          "metadata": {},
          "execution_count": 3
        }
      ]
    },
    {
      "cell_type": "markdown",
      "source": [
        "#2.2 Indicadores de Tendencias"
      ],
      "metadata": {
        "id": "Ci1SEL_Xup-J"
      }
    },
    {
      "cell_type": "code",
      "source": [
        "#Web Scraping de la página de tendencias\n",
        "headers = {'User-Agent': 'Mozilla/5.0 (Macintosh; Intel Mac OS X 10_15_7) AppleWebKit/537.36 (KHTML, like Gecko) Chrome/111.0.0.0 Safari/537.36'}\n",
        "url = 'https://coinmarketcap.com'\n",
        "respuesta = requests.get(url, headers=headers)\n",
        "s = BeautifulSoup(respuesta.content, features='lxml')\n",
        "respuesta = s.findAll('p', {'class':'sc-4984dd93-0 iqdbQL coin-item-symbol'})"
      ],
      "metadata": {
        "id": "66zTQ1aausv_"
      },
      "execution_count": 22,
      "outputs": []
    },
    {
      "cell_type": "code",
      "source": [
        "#Calculando posición del Bitcoin\n",
        "indice=0\n",
        "for item in respuesta:\n",
        "  if item.getText()=='BTC':\n",
        "    break\n",
        "  indice+=1\n",
        "print('La posición actual del bitcoin en la tabla es: ', indice)"
      ],
      "metadata": {
        "colab": {
          "base_uri": "https://localhost:8080/"
        },
        "id": "rKtlOMlsvBGm",
        "outputId": "c6219340-c723-4278-865f-f7a93e412284"
      },
      "execution_count": 23,
      "outputs": [
        {
          "output_type": "stream",
          "name": "stdout",
          "text": [
            "La posición actual del bitcoin en la tabla es:  0\n"
          ]
        }
      ]
    },
    {
      "cell_type": "code",
      "source": [
        "#Extrayendo el precio del Bitcoin\n",
        "respuesta = s.findAll('div', {'class':['sc-cadad039-0 clgqXO','sc-cadad039-0 clgqXO fall','sc-cadad039-0 clgqXO rise']})\n",
        "precio_actual=float(respuesta[indice].getText().replace('$','').replace(',',''))\n",
        "print('El precio actual del bitcoin es: ', precio_actual)"
      ],
      "metadata": {
        "colab": {
          "base_uri": "https://localhost:8080/"
        },
        "id": "NSs3jYqgvNOo",
        "outputId": "4581ca61-df41-4185-e0f9-ed239da7cff9"
      },
      "execution_count": 24,
      "outputs": [
        {
          "output_type": "stream",
          "name": "stdout",
          "text": [
            "El precio actual del bitcoin es:  28069.93\n"
          ]
        }
      ]
    },
    {
      "cell_type": "code",
      "source": [
        "#Extrayendo tendencias de 1hr para todas las monedas, salto de 3 en 3 para evitar las tendencias de 24hr y 7dias\n",
        "lista = []\n",
        "respuesta = s.findAll('span', {'class':['sc-97d6d2ca-0 cYiHal','sc-97d6d2ca-0 bQjSqS']})\n",
        "for item in respuesta[::3]:\n",
        "  lista.append(item)\n",
        "  print(item)"
      ],
      "metadata": {
        "colab": {
          "base_uri": "https://localhost:8080/"
        },
        "id": "v2zAErdzvmtG",
        "outputId": "4741943b-7ddf-4755-ae9d-097302f62bd4"
      },
      "execution_count": 25,
      "outputs": [
        {
          "output_type": "stream",
          "name": "stdout",
          "text": [
            "<span class=\"sc-97d6d2ca-0 bQjSqS\"><span class=\"icon-Caret-down\"></span>0.03%</span>\n",
            "<span class=\"sc-97d6d2ca-0 cYiHal\"><span class=\"icon-Caret-up\"></span>0.27%</span>\n",
            "<span class=\"sc-97d6d2ca-0 cYiHal\"><span class=\"icon-Caret-up\"></span>0.01%</span>\n",
            "<span class=\"sc-97d6d2ca-0 cYiHal\"><span class=\"icon-Caret-up\"></span>0.12%</span>\n",
            "<span class=\"sc-97d6d2ca-0 cYiHal\"><span class=\"icon-Caret-up\"></span>0.01%</span>\n",
            "<span class=\"sc-97d6d2ca-0 bQjSqS\"><span class=\"icon-Caret-down\"></span>0.34%</span>\n",
            "<span class=\"sc-97d6d2ca-0 cYiHal\"><span class=\"icon-Caret-up\"></span>0.12%</span>\n",
            "<span class=\"sc-97d6d2ca-0 bQjSqS\"><span class=\"icon-Caret-down\"></span>0.03%</span>\n",
            "<span class=\"sc-97d6d2ca-0 bQjSqS\"><span class=\"icon-Caret-down\"></span>0.67%</span>\n",
            "<span class=\"sc-97d6d2ca-0 bQjSqS\"><span class=\"icon-Caret-down\"></span>0.51%</span>\n"
          ]
        }
      ]
    },
    {
      "cell_type": "code",
      "source": [
        "#Calculando la tendencia exclusivamente del Bitcoin\n",
        "tendencia = ''\n",
        "if lista[indice].find('span')['class'][0] == 'icon-Caret-down':\n",
        "  tendencia = 'baja'\n",
        "else:\n",
        "  tendencia = 'alta'\n",
        "print('La tendencia actual del bitcoin es: ', tendencia)"
      ],
      "metadata": {
        "colab": {
          "base_uri": "https://localhost:8080/"
        },
        "id": "LPazlMwQw9Ni",
        "outputId": "c5062176-2a02-4bb9-8a4f-249ea4bd69d9"
      },
      "execution_count": 28,
      "outputs": [
        {
          "output_type": "stream",
          "name": "stdout",
          "text": [
            "La tendencia actual del bitcoin es:  baja\n"
          ]
        }
      ]
    },
    {
      "cell_type": "markdown",
      "source": [
        "#3. Limpieza de datos"
      ],
      "metadata": {
        "id": "LcvirYBFxcLl"
      }
    },
    {
      "cell_type": "code",
      "source": [
        "#Calcula el precio promedio de la base original\n",
        "media_original = round(df_bitcoin.Close.mean(),0)\n",
        "\n",
        "#Elimina Repetidos\n",
        "df_bitcoin_limpio = df_bitcoin[~df_bitcoin.index.duplicated(keep = 'first')]\n",
        "\n",
        "#Elimina filas con valor nulo en la columna Close\n",
        "df_bitcoin_limpio.dropna(subset = ['Close'], inplace=True)\n",
        "\n",
        "#Filtra operaciones sin volumen\n",
        "df_bitcoin_limpio = df_bitcoin_limpio[df_bitcoin_limpio.Volume > 0]\n",
        "\n",
        "#Actualiza el indice\n",
        "df_bitcoin_limpio.reset_index(inplace=True)\n",
        "\n",
        "#Calcula Q1 y Q3\n",
        "valor = df_bitcoin_limpio['Close']\n",
        "Q1 = valor.quantile(.25)\n",
        "Q3 = valor.quantile(.75)\n",
        "\n",
        "#Selecciona sólo los registros dentro de Q1 y Q3\n",
        "seleccion = (valor >= Q1) & (valor <= Q3)\n",
        "df_bitcoin_limpio = df_bitcoin_limpio[seleccion]\n",
        "\n",
        "#Calcula el precio promedio de la base limpia\n",
        "media_bitcoin = round(df_bitcoin_limpio.Close.mean(),0)\n",
        "\n",
        "print('El promedio de precios del Bitcoin antes de la limpieza es: $', media_original)\n",
        "print('El promedio de precios del Bitcoin después de la limpieza es: $', media_bitcoin)"
      ],
      "metadata": {
        "colab": {
          "base_uri": "https://localhost:8080/"
        },
        "id": "OstnsPj4xicm",
        "outputId": "9245d842-92d1-4203-dc0a-1af0c8797027"
      },
      "execution_count": 30,
      "outputs": [
        {
          "output_type": "stream",
          "name": "stdout",
          "text": [
            "El promedio de precios del Bitcoin antes de la limpieza es: $ 26799.0\n",
            "El promedio de precios del Bitcoin después de la limpieza es: $ 26862.0\n"
          ]
        }
      ]
    },
    {
      "cell_type": "markdown",
      "source": [
        "#4. Tomar decisiones"
      ],
      "metadata": {
        "id": "LS1lURSRyTDl"
      }
    },
    {
      "cell_type": "code",
      "source": [
        "#Construímos el algoritmo de decisión\n",
        "if ((precio_actual >= media_bitcoin) and (tendencia == 'baja')):\n",
        "  algoritmo_decision = 'Vender'\n",
        "  color = '#dc143c'\n",
        "elif ((precio_actual < media_bitcoin) and (tendencia == 'alta')):\n",
        "  algoritmo_decision = 'Comprar'\n",
        "  color = '#228b22'\n",
        "else:\n",
        "  algoritmo_decision = ''\n",
        "  color = '#000000'\n",
        "  \n",
        "print('Precio Promedio Bitcoin: ', media_bitcoin)\n",
        "print('Precio Actual Bitcoin: ', precio_actual)\n",
        "print('Tendencia: ', tendencia)\n",
        "print('Decisión del algoritmo: ', algoritmo_decision)"
      ],
      "metadata": {
        "colab": {
          "base_uri": "https://localhost:8080/"
        },
        "id": "pgRKz_29yUbS",
        "outputId": "778b7673-25f8-4a7d-e843-85721f6f5356"
      },
      "execution_count": 31,
      "outputs": [
        {
          "output_type": "stream",
          "name": "stdout",
          "text": [
            "Precio Promedio Bitcoin:  26862.0\n",
            "Precio Actual Bitcoin:  28069.93\n",
            "Tendencia:  baja\n",
            "Decisión del algoritmo:  Vender\n"
          ]
        }
      ]
    },
    {
      "cell_type": "markdown",
      "source": [
        "#5. Visualización"
      ],
      "metadata": {
        "id": "yfY6_yuyyz2x"
      }
    },
    {
      "cell_type": "code",
      "source": [
        "print('Tendencia: ', tendencia)\n",
        "df_bitcoin['Promedio'] = media_bitcoin\n",
        "plt.figure(figsize=((16,5)))\n",
        "plt.title('Precio del Bitcoin ($)', loc='left', fontsize=22, color='#607d8b', fontweight=\"bold\", pad = 10)\n",
        "plt.plot(df_bitcoin.index, df_bitcoin['Close'], color='#6497b1')\n",
        "plt.plot(df_bitcoin.index, df_bitcoin['Promedio'], color='#ff6f69')\n",
        "plt.annotate(algoritmo_decision, xy=(0.85, 0.85), xycoords='axes fraction', fontsize=20, color=color)\n",
        "plt.show()"
      ],
      "metadata": {
        "colab": {
          "base_uri": "https://localhost:8080/",
          "height": 500
        },
        "id": "iMvhjN3fy0pB",
        "outputId": "dbdfc56c-767f-4527-884a-a6dae8142f36"
      },
      "execution_count": 34,
      "outputs": [
        {
          "output_type": "stream",
          "name": "stdout",
          "text": [
            "Tendencia:  baja\n"
          ]
        },
        {
          "output_type": "display_data",
          "data": {
            "text/plain": [
              "<Figure size 1600x500 with 1 Axes>"
            ],
            "image/png": "[encoded data removed]"
          },
          "metadata": {}
        }
      ]
    }
  ]
}